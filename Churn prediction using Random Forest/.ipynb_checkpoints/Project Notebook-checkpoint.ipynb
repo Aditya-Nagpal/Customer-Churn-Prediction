{
 "cells": [
  {
   "cell_type": "code",
   "execution_count": 1,
   "id": "c43e3e10-6b1b-413f-82c9-09badc9d6bda",
   "metadata": {},
   "outputs": [],
   "source": [
    "import numpy as np\n",
    "import pandas as pd\n",
    "import matplotlib.pyplot as plt\n",
    "import warnings\n",
    "warnings.filterwarnings(action='ignore')\n",
    "plt.style.use(['seaborn-v0_8-bright','dark_background'])"
   ]
  },
  {
   "cell_type": "code",
   "execution_count": 3,
   "id": "0eb3e0a2-c0aa-47d1-bc20-be63ea7264bb",
   "metadata": {},
   "outputs": [
    {
     "data": {
      "text/html": [
       "<div>\n",
       "<style scoped>\n",
       "    .dataframe tbody tr th:only-of-type {\n",
       "        vertical-align: middle;\n",
       "    }\n",
       "\n",
       "    .dataframe tbody tr th {\n",
       "        vertical-align: top;\n",
       "    }\n",
       "\n",
       "    .dataframe thead th {\n",
       "        text-align: right;\n",
       "    }\n",
       "</style>\n",
       "<table border=\"1\" class=\"dataframe\">\n",
       "  <thead>\n",
       "    <tr style=\"text-align: right;\">\n",
       "      <th></th>\n",
       "      <th>Unnamed: 0</th>\n",
       "      <th>customer_id</th>\n",
       "      <th>vintage</th>\n",
       "      <th>age</th>\n",
       "      <th>gender</th>\n",
       "      <th>dependents</th>\n",
       "      <th>occupation</th>\n",
       "      <th>city</th>\n",
       "      <th>customer_nw_category</th>\n",
       "      <th>branch_code</th>\n",
       "      <th>...</th>\n",
       "      <th>average_monthly_balance_prevQ</th>\n",
       "      <th>average_monthly_balance_prevQ2</th>\n",
       "      <th>current_month_credit</th>\n",
       "      <th>previous_month_credit</th>\n",
       "      <th>current_month_debit</th>\n",
       "      <th>previous_month_debit</th>\n",
       "      <th>current_month_balance</th>\n",
       "      <th>previous_month_balance</th>\n",
       "      <th>churn</th>\n",
       "      <th>days_since_last_transaction</th>\n",
       "    </tr>\n",
       "  </thead>\n",
       "  <tbody>\n",
       "    <tr>\n",
       "      <th>0</th>\n",
       "      <td>0</td>\n",
       "      <td>1</td>\n",
       "      <td>2101</td>\n",
       "      <td>66</td>\n",
       "      <td>1</td>\n",
       "      <td>0.0</td>\n",
       "      <td>1</td>\n",
       "      <td>187.0</td>\n",
       "      <td>2</td>\n",
       "      <td>755</td>\n",
       "      <td>...</td>\n",
       "      <td>1458.71</td>\n",
       "      <td>1449.07</td>\n",
       "      <td>0.20</td>\n",
       "      <td>0.20</td>\n",
       "      <td>0.20</td>\n",
       "      <td>0.20</td>\n",
       "      <td>1458.71</td>\n",
       "      <td>1458.71</td>\n",
       "      <td>0</td>\n",
       "      <td>1937</td>\n",
       "    </tr>\n",
       "    <tr>\n",
       "      <th>1</th>\n",
       "      <td>4</td>\n",
       "      <td>6</td>\n",
       "      <td>1579</td>\n",
       "      <td>42</td>\n",
       "      <td>1</td>\n",
       "      <td>2.0</td>\n",
       "      <td>1</td>\n",
       "      <td>1494.0</td>\n",
       "      <td>3</td>\n",
       "      <td>388</td>\n",
       "      <td>...</td>\n",
       "      <td>1643.31</td>\n",
       "      <td>1871.12</td>\n",
       "      <td>0.33</td>\n",
       "      <td>714.61</td>\n",
       "      <td>588.62</td>\n",
       "      <td>1538.06</td>\n",
       "      <td>1157.15</td>\n",
       "      <td>1677.16</td>\n",
       "      <td>1</td>\n",
       "      <td>1771</td>\n",
       "    </tr>\n",
       "    <tr>\n",
       "      <th>2</th>\n",
       "      <td>5</td>\n",
       "      <td>7</td>\n",
       "      <td>1923</td>\n",
       "      <td>42</td>\n",
       "      <td>0</td>\n",
       "      <td>0.0</td>\n",
       "      <td>1</td>\n",
       "      <td>1096.0</td>\n",
       "      <td>2</td>\n",
       "      <td>1666</td>\n",
       "      <td>...</td>\n",
       "      <td>15211.29</td>\n",
       "      <td>13798.82</td>\n",
       "      <td>0.36</td>\n",
       "      <td>0.36</td>\n",
       "      <td>857.50</td>\n",
       "      <td>286.07</td>\n",
       "      <td>15719.44</td>\n",
       "      <td>15349.75</td>\n",
       "      <td>0</td>\n",
       "      <td>1773</td>\n",
       "    </tr>\n",
       "    <tr>\n",
       "      <th>3</th>\n",
       "      <td>6</td>\n",
       "      <td>8</td>\n",
       "      <td>2048</td>\n",
       "      <td>72</td>\n",
       "      <td>1</td>\n",
       "      <td>0.0</td>\n",
       "      <td>3</td>\n",
       "      <td>1020.0</td>\n",
       "      <td>1</td>\n",
       "      <td>1</td>\n",
       "      <td>...</td>\n",
       "      <td>7859.74</td>\n",
       "      <td>11232.37</td>\n",
       "      <td>0.64</td>\n",
       "      <td>0.64</td>\n",
       "      <td>1299.64</td>\n",
       "      <td>439.26</td>\n",
       "      <td>7076.06</td>\n",
       "      <td>7755.98</td>\n",
       "      <td>0</td>\n",
       "      <td>1811</td>\n",
       "    </tr>\n",
       "    <tr>\n",
       "      <th>4</th>\n",
       "      <td>7</td>\n",
       "      <td>9</td>\n",
       "      <td>2009</td>\n",
       "      <td>46</td>\n",
       "      <td>1</td>\n",
       "      <td>0.0</td>\n",
       "      <td>1</td>\n",
       "      <td>623.0</td>\n",
       "      <td>2</td>\n",
       "      <td>317</td>\n",
       "      <td>...</td>\n",
       "      <td>6511.82</td>\n",
       "      <td>16314.17</td>\n",
       "      <td>0.27</td>\n",
       "      <td>0.27</td>\n",
       "      <td>443.13</td>\n",
       "      <td>5688.44</td>\n",
       "      <td>8563.84</td>\n",
       "      <td>5317.04</td>\n",
       "      <td>0</td>\n",
       "      <td>1885</td>\n",
       "    </tr>\n",
       "  </tbody>\n",
       "</table>\n",
       "<p>5 rows × 22 columns</p>\n",
       "</div>"
      ],
      "text/plain": [
       "   Unnamed: 0  customer_id  vintage  age  gender  dependents  occupation  \\\n",
       "0           0            1     2101   66       1         0.0           1   \n",
       "1           4            6     1579   42       1         2.0           1   \n",
       "2           5            7     1923   42       0         0.0           1   \n",
       "3           6            8     2048   72       1         0.0           3   \n",
       "4           7            9     2009   46       1         0.0           1   \n",
       "\n",
       "     city  customer_nw_category  branch_code  ...  \\\n",
       "0   187.0                     2          755  ...   \n",
       "1  1494.0                     3          388  ...   \n",
       "2  1096.0                     2         1666  ...   \n",
       "3  1020.0                     1            1  ...   \n",
       "4   623.0                     2          317  ...   \n",
       "\n",
       "   average_monthly_balance_prevQ  average_monthly_balance_prevQ2  \\\n",
       "0                        1458.71                         1449.07   \n",
       "1                        1643.31                         1871.12   \n",
       "2                       15211.29                        13798.82   \n",
       "3                        7859.74                        11232.37   \n",
       "4                        6511.82                        16314.17   \n",
       "\n",
       "   current_month_credit  previous_month_credit  current_month_debit  \\\n",
       "0                  0.20                   0.20                 0.20   \n",
       "1                  0.33                 714.61               588.62   \n",
       "2                  0.36                   0.36               857.50   \n",
       "3                  0.64                   0.64              1299.64   \n",
       "4                  0.27                   0.27               443.13   \n",
       "\n",
       "   previous_month_debit  current_month_balance  previous_month_balance  churn  \\\n",
       "0                  0.20                1458.71                 1458.71      0   \n",
       "1               1538.06                1157.15                 1677.16      1   \n",
       "2                286.07               15719.44                15349.75      0   \n",
       "3                439.26                7076.06                 7755.98      0   \n",
       "4               5688.44                8563.84                 5317.04      0   \n",
       "\n",
       "   days_since_last_transaction  \n",
       "0                         1937  \n",
       "1                         1771  \n",
       "2                         1773  \n",
       "3                         1811  \n",
       "4                         1885  \n",
       "\n",
       "[5 rows x 22 columns]"
      ]
     },
     "execution_count": 3,
     "metadata": {},
     "output_type": "execute_result"
    }
   ],
   "source": [
    "data=pd.read_csv('Updated_Churn_Prediction.csv')\n",
    "data.head()"
   ]
  },
  {
   "cell_type": "code",
   "execution_count": 4,
   "id": "4934c322-0d97-4daa-af11-c072d3225852",
   "metadata": {},
   "outputs": [
    {
     "name": "stdout",
     "output_type": "stream",
     "text": [
      "<class 'pandas.core.frame.DataFrame'>\n",
      "RangeIndex: 22067 entries, 0 to 22066\n",
      "Data columns (total 22 columns):\n",
      " #   Column                          Non-Null Count  Dtype  \n",
      "---  ------                          --------------  -----  \n",
      " 0   Unnamed: 0                      22067 non-null  int64  \n",
      " 1   customer_id                     22067 non-null  int64  \n",
      " 2   vintage                         22067 non-null  int64  \n",
      " 3   age                             22067 non-null  int64  \n",
      " 4   gender                          22067 non-null  int64  \n",
      " 5   dependents                      22067 non-null  float64\n",
      " 6   occupation                      22067 non-null  int64  \n",
      " 7   city                            22067 non-null  float64\n",
      " 8   customer_nw_category            22067 non-null  int64  \n",
      " 9   branch_code                     22067 non-null  int64  \n",
      " 10  current_balance                 22067 non-null  float64\n",
      " 11  previous_month_end_balance      22067 non-null  float64\n",
      " 12  average_monthly_balance_prevQ   22067 non-null  float64\n",
      " 13  average_monthly_balance_prevQ2  22067 non-null  float64\n",
      " 14  current_month_credit            22067 non-null  float64\n",
      " 15  previous_month_credit           22067 non-null  float64\n",
      " 16  current_month_debit             22067 non-null  float64\n",
      " 17  previous_month_debit            22067 non-null  float64\n",
      " 18  current_month_balance           22067 non-null  float64\n",
      " 19  previous_month_balance          22067 non-null  float64\n",
      " 20  churn                           22067 non-null  int64  \n",
      " 21  days_since_last_transaction     22067 non-null  int64  \n",
      "dtypes: float64(12), int64(10)\n",
      "memory usage: 3.7 MB\n"
     ]
    }
   ],
   "source": [
    "data.info()"
   ]
  },
  {
   "cell_type": "code",
   "execution_count": 5,
   "id": "d0cd2758-c9f6-4d65-bc8f-317305233a99",
   "metadata": {},
   "outputs": [],
   "source": [
    "# separating dependant and independent variables\n",
    "X=data.drop(columns=['customer_id','churn'])\n",
    "Y=data['churn']"
   ]
  },
  {
   "cell_type": "code",
   "execution_count": 6,
   "id": "03cceafd-61bb-41ee-82da-c073e907be42",
   "metadata": {},
   "outputs": [],
   "source": [
    "# scaling the dataset\n",
    "from sklearn.preprocessing import StandardScaler\n",
    "scaler=StandardScaler()\n",
    "scaled_X=scaler.fit_transform(X)"
   ]
  },
  {
   "cell_type": "code",
   "execution_count": 7,
   "id": "cc244474-88a6-4ce4-bdf5-e53bcd276b9f",
   "metadata": {},
   "outputs": [
    {
     "data": {
      "text/plain": [
       "((17653, 20), (4414, 20), (17653,), (4414,))"
      ]
     },
     "execution_count": 7,
     "metadata": {},
     "output_type": "execute_result"
    }
   ],
   "source": [
    "# splitting dataset\n",
    "from sklearn.model_selection import train_test_split as tts\n",
    "train_x, test_x, train_y, test_y=tts(scaled_X,Y,train_size=0.8,stratify=Y)\n",
    "train_x.shape, test_x.shape, train_y.shape, test_y.shape"
   ]
  },
  {
   "cell_type": "code",
   "execution_count": 8,
   "id": "693d999a-8f6e-4be3-8e2f-8f8b5203f0ce",
   "metadata": {},
   "outputs": [
    {
     "data": {
      "text/plain": [
       "{'base_estimator': 'deprecated',\n",
       " 'bootstrap': True,\n",
       " 'bootstrap_features': False,\n",
       " 'estimator': None,\n",
       " 'max_features': 1.0,\n",
       " 'max_samples': 1.0,\n",
       " 'n_estimators': 10,\n",
       " 'n_jobs': None,\n",
       " 'oob_score': False,\n",
       " 'random_state': None,\n",
       " 'verbose': 0,\n",
       " 'warm_start': False}"
      ]
     },
     "execution_count": 8,
     "metadata": {},
     "output_type": "execute_result"
    }
   ],
   "source": [
    "from sklearn.ensemble import BaggingClassifier as BC\n",
    "classifier=BC()\n",
    "classifier.fit(train_x,train_y)\n",
    "classifier.get_params()"
   ]
  },
  {
   "cell_type": "code",
   "execution_count": 11,
   "id": "243470c5-9c32-4aa0-9875-c495cdcaef45",
   "metadata": {},
   "outputs": [],
   "source": [
    "from sklearn.linear_model import LogisticRegression as LR\n",
    "classifier=BC(base_estimator=LR(),n_jobs=-1,random_state=42,n_estimators=150)\n",
    "classifier.fit(train_x,train_y)\n",
    "predicted_values=classifier.predict(train_x)"
   ]
  },
  {
   "cell_type": "code",
   "execution_count": 12,
   "id": "32ee4e0f-75f5-4cf7-a87c-414bd97314d8",
   "metadata": {},
   "outputs": [
    {
     "name": "stdout",
     "output_type": "stream",
     "text": [
      "              precision    recall  f1-score   support\n",
      "\n",
      "           0       0.82      0.99      0.90     14234\n",
      "           1       0.74      0.10      0.17      3419\n",
      "\n",
      "    accuracy                           0.82     17653\n",
      "   macro avg       0.78      0.54      0.53     17653\n",
      "weighted avg       0.81      0.82      0.76     17653\n",
      "\n"
     ]
    }
   ],
   "source": [
    "from sklearn.metrics import classification_report\n",
    "print(classification_report(train_y,predicted_values))"
   ]
  },
  {
   "cell_type": "code",
   "execution_count": 13,
   "id": "74f91516-6874-4051-b9fd-f458c120ed5d",
   "metadata": {},
   "outputs": [
    {
     "name": "stdout",
     "output_type": "stream",
     "text": [
      "              precision    recall  f1-score   support\n",
      "\n",
      "           0       0.82      0.99      0.90      3559\n",
      "           1       0.74      0.08      0.15       855\n",
      "\n",
      "    accuracy                           0.82      4414\n",
      "   macro avg       0.78      0.54      0.52      4414\n",
      "weighted avg       0.80      0.82      0.75      4414\n",
      "\n"
     ]
    }
   ],
   "source": [
    "predicted_values=classifier.predict(test_x)\n",
    "print(classification_report(test_y,predicted_values))"
   ]
  },
  {
   "cell_type": "code",
   "execution_count": 14,
   "id": "8d85fa69-c048-460d-8c0c-ad3c589f6a95",
   "metadata": {},
   "outputs": [
    {
     "data": {
      "text/plain": [
       "{'bootstrap': True,\n",
       " 'ccp_alpha': 0.0,\n",
       " 'class_weight': None,\n",
       " 'criterion': 'gini',\n",
       " 'max_depth': None,\n",
       " 'max_features': 'sqrt',\n",
       " 'max_leaf_nodes': None,\n",
       " 'max_samples': None,\n",
       " 'min_impurity_decrease': 0.0,\n",
       " 'min_samples_leaf': 1,\n",
       " 'min_samples_split': 2,\n",
       " 'min_weight_fraction_leaf': 0.0,\n",
       " 'n_estimators': 100,\n",
       " 'n_jobs': None,\n",
       " 'oob_score': False,\n",
       " 'random_state': None,\n",
       " 'verbose': 0,\n",
       " 'warm_start': False}"
      ]
     },
     "execution_count": 14,
     "metadata": {},
     "output_type": "execute_result"
    }
   ],
   "source": [
    "from sklearn.ensemble import RandomForestClassifier as RFC\n",
    "classifier=RFC()\n",
    "classifier.fit(train_x,train_y)\n",
    "classifier.get_params()"
   ]
  },
  {
   "cell_type": "code",
   "execution_count": 16,
   "id": "17d08033-d6c5-4e8e-bec4-e777793fcd97",
   "metadata": {},
   "outputs": [
    {
     "name": "stdout",
     "output_type": "stream",
     "text": [
      "              precision    recall  f1-score   support\n",
      "\n",
      "           0       1.00      1.00      1.00     14234\n",
      "           1       1.00      1.00      1.00      3419\n",
      "\n",
      "    accuracy                           1.00     17653\n",
      "   macro avg       1.00      1.00      1.00     17653\n",
      "weighted avg       1.00      1.00      1.00     17653\n",
      "\n"
     ]
    }
   ],
   "source": [
    "predicted_values=classifier.predict(train_x)\n",
    "print(classification_report(train_y,predicted_values))"
   ]
  },
  {
   "cell_type": "code",
   "execution_count": 17,
   "id": "790b49e2-83df-45d8-bad5-01b30d2928b9",
   "metadata": {},
   "outputs": [
    {
     "name": "stdout",
     "output_type": "stream",
     "text": [
      "              precision    recall  f1-score   support\n",
      "\n",
      "           0       0.87      0.96      0.92      3559\n",
      "           1       0.74      0.41      0.53       855\n",
      "\n",
      "    accuracy                           0.86      4414\n",
      "   macro avg       0.81      0.69      0.72      4414\n",
      "weighted avg       0.85      0.86      0.84      4414\n",
      "\n"
     ]
    }
   ],
   "source": [
    "predicted_values=classifier.predict(test_x)\n",
    "print(classification_report(test_y,predicted_values))"
   ]
  },
  {
   "cell_type": "code",
   "execution_count": 18,
   "id": "32402c9a-4891-4ab0-acd7-f6f3c55ee3dd",
   "metadata": {},
   "outputs": [],
   "source": [
    "# This is better than the bagging model with single decision tree"
   ]
  },
  {
   "cell_type": "markdown",
   "id": "a0ebd5d2-bc3e-491e-a503-a12157a49a9c",
   "metadata": {},
   "source": [
    "## Hyperparameter tuning"
   ]
  },
  {
   "cell_type": "code",
   "execution_count": 19,
   "id": "61848f66-d37d-4d60-9407-8b7767ff263a",
   "metadata": {},
   "outputs": [],
   "source": [
    "from sklearn.metrics import f1_score\n",
    "def calc_score(model, x1, y1, x2, y2):\n",
    "    model.fit(x1,y1)\n",
    "    \n",
    "    predict=model.predict(x1)\n",
    "    f1=f1_score(y1,predict)\n",
    "\n",
    "    predict=model.predict(x2)\n",
    "    f2=f1_score(y2,predict)\n",
    "\n",
    "    return f1, f2"
   ]
  },
  {
   "cell_type": "code",
   "execution_count": 20,
   "id": "fe7aa369-a4d1-4b14-9c08-d70163312496",
   "metadata": {},
   "outputs": [],
   "source": [
    "def effect(train_score, test_score, x_axis, title):\n",
    "    plt.figure(figsize=(5,5), dpi=120)\n",
    "    plt.plot(x_axis,train_score,color='red',label='train_score')\n",
    "    plt.plot(x_axis,test_score,color='blue',label='test_score')\n",
    "    plt.title(title)\n",
    "    plt.xlabel('parameter value')\n",
    "    plt.ylabel('f1 score')\n",
    "    plt.legend()\n",
    "    plt.show()"
   ]
  },
  {
   "cell_type": "markdown",
   "id": "bc6e5988-19e1-4729-996d-69fff8bf01be",
   "metadata": {},
   "source": [
    "### Tuning n_estimators"
   ]
  },
  {
   "cell_type": "code",
   "execution_count": 21,
   "id": "bd0e28c0-3850-45a0-a2a6-b5a6584cb25d",
   "metadata": {},
   "outputs": [],
   "source": [
    "estimators=[i for i in range(1,600,10)]\n",
    "train=[]\n",
    "test=[]\n",
    "for i in estimators:\n",
    "    model=RFC(class_weight='balanced_subsample',n_estimators=i,n_jobs=-1,max_depth=7,random_state=42)\n",
    "    f1,f2=calc_score(model, train_x, train_y, test_x, test_y)\n",
    "    train.append(f1)\n",
    "    test.append(f2)"
   ]
  },
  {
   "cell_type": "code",
   "execution_count": 23,
   "id": "6b02a149-b6f5-4c0b-ae52-7343c7bf0980",
   "metadata": {},
   "outputs": [
    {
     "data": {
      "image/png": "[encoded data removed]",
      "text/plain": [
       "<Figure size 600x600 with 1 Axes>"
      ]
     },
     "metadata": {},
     "output_type": "display_data"
    }
   ],
   "source": [
    "effect(train,test,range(1,600,10),'n_estimators')"
   ]
  }
 ],
 "metadata": {
  "kernelspec": {
   "display_name": "Python 3 (ipykernel)",
   "language": "python",
   "name": "python3"
  },
  "language_info": {
   "codemirror_mode": {
    "name": "ipython",
    "version": 3
   },
   "file_extension": ".py",
   "mimetype": "text/x-python",
   "name": "python",
   "nbconvert_exporter": "python",
   "pygments_lexer": "ipython3",
   "version": "3.11.7"
  }
 },
 "nbformat": 4,
 "nbformat_minor": 5
}
