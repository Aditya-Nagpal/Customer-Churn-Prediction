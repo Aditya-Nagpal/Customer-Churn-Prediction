{
 "cells": [
  {
   "cell_type": "code",
   "execution_count": 1,
   "id": "97b11e20-ed41-4228-8153-466c1d4f26a1",
   "metadata": {},
   "outputs": [],
   "source": [
    "import numpy as np\n",
    "import pandas as pd\n",
    "import matplotlib.pyplot as plt\n",
    "import warnings\n",
    "warnings.filterwarnings(action='ignore')\n",
    "plt.style.use(['seaborn-v0_8-bright','dark_background'])"
   ]
  },
  {
   "cell_type": "code",
   "execution_count": 2,
   "id": "0ead6642-20c3-4392-bb0e-236b4762c4db",
   "metadata": {},
   "outputs": [
    {
     "data": {
      "text/html": [
       "<div>\n",
       "<style scoped>\n",
       "    .dataframe tbody tr th:only-of-type {\n",
       "        vertical-align: middle;\n",
       "    }\n",
       "\n",
       "    .dataframe tbody tr th {\n",
       "        vertical-align: top;\n",
       "    }\n",
       "\n",
       "    .dataframe thead th {\n",
       "        text-align: right;\n",
       "    }\n",
       "</style>\n",
       "<table border=\"1\" class=\"dataframe\">\n",
       "  <thead>\n",
       "    <tr style=\"text-align: right;\">\n",
       "      <th></th>\n",
       "      <th>customer_id</th>\n",
       "      <th>vintage</th>\n",
       "      <th>age</th>\n",
       "      <th>gender</th>\n",
       "      <th>dependents</th>\n",
       "      <th>occupation</th>\n",
       "      <th>city</th>\n",
       "      <th>customer_nw_category</th>\n",
       "      <th>branch_code</th>\n",
       "      <th>current_balance</th>\n",
       "      <th>...</th>\n",
       "      <th>average_monthly_balance_prevQ</th>\n",
       "      <th>average_monthly_balance_prevQ2</th>\n",
       "      <th>current_month_credit</th>\n",
       "      <th>previous_month_credit</th>\n",
       "      <th>current_month_debit</th>\n",
       "      <th>previous_month_debit</th>\n",
       "      <th>current_month_balance</th>\n",
       "      <th>previous_month_balance</th>\n",
       "      <th>churn</th>\n",
       "      <th>last_transaction</th>\n",
       "    </tr>\n",
       "  </thead>\n",
       "  <tbody>\n",
       "    <tr>\n",
       "      <th>0</th>\n",
       "      <td>1</td>\n",
       "      <td>2101</td>\n",
       "      <td>66</td>\n",
       "      <td>Male</td>\n",
       "      <td>0.0</td>\n",
       "      <td>self_employed</td>\n",
       "      <td>187.0</td>\n",
       "      <td>2</td>\n",
       "      <td>755</td>\n",
       "      <td>1458.71</td>\n",
       "      <td>...</td>\n",
       "      <td>1458.71</td>\n",
       "      <td>1449.07</td>\n",
       "      <td>0.20</td>\n",
       "      <td>0.20</td>\n",
       "      <td>0.20</td>\n",
       "      <td>0.20</td>\n",
       "      <td>1458.71</td>\n",
       "      <td>1458.71</td>\n",
       "      <td>0</td>\n",
       "      <td>2019-05-21</td>\n",
       "    </tr>\n",
       "    <tr>\n",
       "      <th>1</th>\n",
       "      <td>2</td>\n",
       "      <td>2348</td>\n",
       "      <td>35</td>\n",
       "      <td>Male</td>\n",
       "      <td>0.0</td>\n",
       "      <td>self_employed</td>\n",
       "      <td>NaN</td>\n",
       "      <td>2</td>\n",
       "      <td>3214</td>\n",
       "      <td>5390.37</td>\n",
       "      <td>...</td>\n",
       "      <td>7799.26</td>\n",
       "      <td>12419.41</td>\n",
       "      <td>0.56</td>\n",
       "      <td>0.56</td>\n",
       "      <td>5486.27</td>\n",
       "      <td>100.56</td>\n",
       "      <td>6496.78</td>\n",
       "      <td>8787.61</td>\n",
       "      <td>0</td>\n",
       "      <td>2019-11-01</td>\n",
       "    </tr>\n",
       "    <tr>\n",
       "      <th>2</th>\n",
       "      <td>4</td>\n",
       "      <td>2194</td>\n",
       "      <td>31</td>\n",
       "      <td>Male</td>\n",
       "      <td>0.0</td>\n",
       "      <td>salaried</td>\n",
       "      <td>146.0</td>\n",
       "      <td>2</td>\n",
       "      <td>41</td>\n",
       "      <td>3913.16</td>\n",
       "      <td>...</td>\n",
       "      <td>4910.17</td>\n",
       "      <td>2815.94</td>\n",
       "      <td>0.61</td>\n",
       "      <td>0.61</td>\n",
       "      <td>6046.73</td>\n",
       "      <td>259.23</td>\n",
       "      <td>5006.28</td>\n",
       "      <td>5070.14</td>\n",
       "      <td>0</td>\n",
       "      <td>NaT</td>\n",
       "    </tr>\n",
       "    <tr>\n",
       "      <th>3</th>\n",
       "      <td>5</td>\n",
       "      <td>2329</td>\n",
       "      <td>90</td>\n",
       "      <td>NaN</td>\n",
       "      <td>NaN</td>\n",
       "      <td>self_employed</td>\n",
       "      <td>1020.0</td>\n",
       "      <td>2</td>\n",
       "      <td>582</td>\n",
       "      <td>2291.91</td>\n",
       "      <td>...</td>\n",
       "      <td>2084.54</td>\n",
       "      <td>1006.54</td>\n",
       "      <td>0.47</td>\n",
       "      <td>0.47</td>\n",
       "      <td>0.47</td>\n",
       "      <td>2143.33</td>\n",
       "      <td>2291.91</td>\n",
       "      <td>1669.79</td>\n",
       "      <td>1</td>\n",
       "      <td>2019-08-06</td>\n",
       "    </tr>\n",
       "    <tr>\n",
       "      <th>4</th>\n",
       "      <td>6</td>\n",
       "      <td>1579</td>\n",
       "      <td>42</td>\n",
       "      <td>Male</td>\n",
       "      <td>2.0</td>\n",
       "      <td>self_employed</td>\n",
       "      <td>1494.0</td>\n",
       "      <td>3</td>\n",
       "      <td>388</td>\n",
       "      <td>927.72</td>\n",
       "      <td>...</td>\n",
       "      <td>1643.31</td>\n",
       "      <td>1871.12</td>\n",
       "      <td>0.33</td>\n",
       "      <td>714.61</td>\n",
       "      <td>588.62</td>\n",
       "      <td>1538.06</td>\n",
       "      <td>1157.15</td>\n",
       "      <td>1677.16</td>\n",
       "      <td>1</td>\n",
       "      <td>2019-11-03</td>\n",
       "    </tr>\n",
       "  </tbody>\n",
       "</table>\n",
       "<p>5 rows × 21 columns</p>\n",
       "</div>"
      ],
      "text/plain": [
       "   customer_id  vintage  age gender  dependents     occupation    city  \\\n",
       "0            1     2101   66   Male         0.0  self_employed   187.0   \n",
       "1            2     2348   35   Male         0.0  self_employed     NaN   \n",
       "2            4     2194   31   Male         0.0       salaried   146.0   \n",
       "3            5     2329   90    NaN         NaN  self_employed  1020.0   \n",
       "4            6     1579   42   Male         2.0  self_employed  1494.0   \n",
       "\n",
       "   customer_nw_category  branch_code  current_balance  ...  \\\n",
       "0                     2          755          1458.71  ...   \n",
       "1                     2         3214          5390.37  ...   \n",
       "2                     2           41          3913.16  ...   \n",
       "3                     2          582          2291.91  ...   \n",
       "4                     3          388           927.72  ...   \n",
       "\n",
       "   average_monthly_balance_prevQ  average_monthly_balance_prevQ2  \\\n",
       "0                        1458.71                         1449.07   \n",
       "1                        7799.26                        12419.41   \n",
       "2                        4910.17                         2815.94   \n",
       "3                        2084.54                         1006.54   \n",
       "4                        1643.31                         1871.12   \n",
       "\n",
       "   current_month_credit  previous_month_credit  current_month_debit  \\\n",
       "0                  0.20                   0.20                 0.20   \n",
       "1                  0.56                   0.56              5486.27   \n",
       "2                  0.61                   0.61              6046.73   \n",
       "3                  0.47                   0.47                 0.47   \n",
       "4                  0.33                 714.61               588.62   \n",
       "\n",
       "   previous_month_debit  current_month_balance  previous_month_balance  churn  \\\n",
       "0                  0.20                1458.71                 1458.71      0   \n",
       "1                100.56                6496.78                 8787.61      0   \n",
       "2                259.23                5006.28                 5070.14      0   \n",
       "3               2143.33                2291.91                 1669.79      1   \n",
       "4               1538.06                1157.15                 1677.16      1   \n",
       "\n",
       "   last_transaction  \n",
       "0        2019-05-21  \n",
       "1        2019-11-01  \n",
       "2               NaT  \n",
       "3        2019-08-06  \n",
       "4        2019-11-03  \n",
       "\n",
       "[5 rows x 21 columns]"
      ]
     },
     "execution_count": 2,
     "metadata": {},
     "output_type": "execute_result"
    }
   ],
   "source": [
    "data=pd.read_csv('Customer_Data.csv')\n",
    "data.head()"
   ]
  },
  {
   "cell_type": "code",
   "execution_count": 3,
   "id": "927a772e-9c3c-45e9-8d0e-6897eb60f798",
   "metadata": {},
   "outputs": [
    {
     "name": "stdout",
     "output_type": "stream",
     "text": [
      "<class 'pandas.core.frame.DataFrame'>\n",
      "RangeIndex: 28382 entries, 0 to 28381\n",
      "Data columns (total 21 columns):\n",
      " #   Column                          Non-Null Count  Dtype  \n",
      "---  ------                          --------------  -----  \n",
      " 0   customer_id                     28382 non-null  int64  \n",
      " 1   vintage                         28382 non-null  int64  \n",
      " 2   age                             28382 non-null  int64  \n",
      " 3   gender                          27857 non-null  object \n",
      " 4   dependents                      25919 non-null  float64\n",
      " 5   occupation                      28302 non-null  object \n",
      " 6   city                            27579 non-null  float64\n",
      " 7   customer_nw_category            28382 non-null  int64  \n",
      " 8   branch_code                     28382 non-null  int64  \n",
      " 9   current_balance                 28382 non-null  float64\n",
      " 10  previous_month_end_balance      28382 non-null  float64\n",
      " 11  average_monthly_balance_prevQ   28382 non-null  float64\n",
      " 12  average_monthly_balance_prevQ2  28382 non-null  float64\n",
      " 13  current_month_credit            28382 non-null  float64\n",
      " 14  previous_month_credit           28382 non-null  float64\n",
      " 15  current_month_debit             28382 non-null  float64\n",
      " 16  previous_month_debit            28382 non-null  float64\n",
      " 17  current_month_balance           28382 non-null  float64\n",
      " 18  previous_month_balance          28382 non-null  float64\n",
      " 19  churn                           28382 non-null  int64  \n",
      " 20  last_transaction                28382 non-null  object \n",
      "dtypes: float64(12), int64(6), object(3)\n",
      "memory usage: 4.5+ MB\n"
     ]
    }
   ],
   "source": [
    "data.info()"
   ]
  },
  {
   "cell_type": "code",
   "execution_count": 4,
   "id": "e0e616f4-a388-48df-8c2c-026815b0be8d",
   "metadata": {},
   "outputs": [
    {
     "data": {
      "text/plain": [
       "Index(['customer_id', 'vintage', 'age', 'gender', 'dependents', 'occupation',\n",
       "       'city', 'customer_nw_category', 'branch_code', 'current_balance',\n",
       "       'previous_month_end_balance', 'average_monthly_balance_prevQ',\n",
       "       'average_monthly_balance_prevQ2', 'current_month_credit',\n",
       "       'previous_month_credit', 'current_month_debit', 'previous_month_debit',\n",
       "       'current_month_balance', 'previous_month_balance', 'churn',\n",
       "       'last_transaction'],\n",
       "      dtype='object')"
      ]
     },
     "execution_count": 4,
     "metadata": {},
     "output_type": "execute_result"
    }
   ],
   "source": [
    "columns=data.columns\n",
    "columns"
   ]
  },
  {
   "cell_type": "markdown",
   "id": "0de31165-e245-4d53-b629-ca2b7cd3f81a",
   "metadata": {},
   "source": [
    "# Data exploration and pre-processing"
   ]
  },
  {
   "cell_type": "code",
   "execution_count": 5,
   "id": "ad730e4e-d011-4265-addc-35a92d6ae6d3",
   "metadata": {},
   "outputs": [
    {
     "data": {
      "text/plain": [
       "customer_id                          0\n",
       "vintage                              0\n",
       "age                                  0\n",
       "gender                             525\n",
       "dependents                        2463\n",
       "occupation                          80\n",
       "city                               803\n",
       "customer_nw_category                 0\n",
       "branch_code                          0\n",
       "current_balance                      0\n",
       "previous_month_end_balance           0\n",
       "average_monthly_balance_prevQ        0\n",
       "average_monthly_balance_prevQ2       0\n",
       "current_month_credit                 0\n",
       "previous_month_credit                0\n",
       "current_month_debit                  0\n",
       "previous_month_debit                 0\n",
       "current_month_balance                0\n",
       "previous_month_balance               0\n",
       "churn                                0\n",
       "last_transaction                     0\n",
       "dtype: int64"
      ]
     },
     "execution_count": 5,
     "metadata": {},
     "output_type": "execute_result"
    }
   ],
   "source": [
    "data.isnull().sum()"
   ]
  },
  {
   "cell_type": "code",
   "execution_count": 6,
   "id": "9c5b034d-9df1-45ea-94a8-5a0cd12bc6ef",
   "metadata": {},
   "outputs": [],
   "source": [
    "# Removing rows with missing values."
   ]
  },
  {
   "cell_type": "code",
   "execution_count": 7,
   "id": "89940391-fcf7-4278-bba7-257365a5da14",
   "metadata": {},
   "outputs": [],
   "source": [
    "data.dropna(inplace=True,axis=0,subset=['city','gender','occupation','dependents'])"
   ]
  },
  {
   "cell_type": "code",
   "execution_count": 8,
   "id": "be07bf03-2510-48cf-827b-136b60b86733",
   "metadata": {},
   "outputs": [],
   "source": [
    "data['last_transaction']=pd.to_datetime(data['last_transaction'])\n",
    "data.dropna(inplace=True,axis=0,subset=['last_transaction'])"
   ]
  },
  {
   "cell_type": "code",
   "execution_count": 9,
   "id": "74031cc4-8f0f-4817-8678-51bd094b6841",
   "metadata": {},
   "outputs": [
    {
     "name": "stdout",
     "output_type": "stream",
     "text": [
      "<class 'pandas.core.frame.DataFrame'>\n",
      "Index: 22067 entries, 0 to 28381\n",
      "Data columns (total 21 columns):\n",
      " #   Column                          Non-Null Count  Dtype         \n",
      "---  ------                          --------------  -----         \n",
      " 0   customer_id                     22067 non-null  int64         \n",
      " 1   vintage                         22067 non-null  int64         \n",
      " 2   age                             22067 non-null  int64         \n",
      " 3   gender                          22067 non-null  object        \n",
      " 4   dependents                      22067 non-null  float64       \n",
      " 5   occupation                      22067 non-null  object        \n",
      " 6   city                            22067 non-null  float64       \n",
      " 7   customer_nw_category            22067 non-null  int64         \n",
      " 8   branch_code                     22067 non-null  int64         \n",
      " 9   current_balance                 22067 non-null  float64       \n",
      " 10  previous_month_end_balance      22067 non-null  float64       \n",
      " 11  average_monthly_balance_prevQ   22067 non-null  float64       \n",
      " 12  average_monthly_balance_prevQ2  22067 non-null  float64       \n",
      " 13  current_month_credit            22067 non-null  float64       \n",
      " 14  previous_month_credit           22067 non-null  float64       \n",
      " 15  current_month_debit             22067 non-null  float64       \n",
      " 16  previous_month_debit            22067 non-null  float64       \n",
      " 17  current_month_balance           22067 non-null  float64       \n",
      " 18  previous_month_balance          22067 non-null  float64       \n",
      " 19  churn                           22067 non-null  int64         \n",
      " 20  last_transaction                22067 non-null  datetime64[ns]\n",
      "dtypes: datetime64[ns](1), float64(12), int64(6), object(2)\n",
      "memory usage: 3.7+ MB\n"
     ]
    }
   ],
   "source": [
    "data.info()"
   ]
  },
  {
   "cell_type": "code",
   "execution_count": 10,
   "id": "547d2894-c04e-4c85-b2a0-53a19bc9a8ec",
   "metadata": {},
   "outputs": [
    {
     "data": {
      "text/plain": [
       "0    1937\n",
       "4    1771\n",
       "5    1773\n",
       "6    1811\n",
       "7    1885\n",
       "Name: days_since_last_transaction, dtype: int64"
      ]
     },
     "execution_count": 10,
     "metadata": {},
     "output_type": "execute_result"
    }
   ],
   "source": [
    "# Creating a column for days since last transaction\n",
    "from datetime import datetime\n",
    "today=datetime.now()\n",
    "data['datetime_now']=today\n",
    "data['days_since_last_transaction']=data['datetime_now']-data['last_transaction']\n",
    "data['days_since_last_transaction']=data['days_since_last_transaction'].dt.days\n",
    "data['days_since_last_transaction'].head()"
   ]
  },
  {
   "cell_type": "code",
   "execution_count": 11,
   "id": "fcce9f6a-d555-4dc8-b8b6-10b5c271c1c8",
   "metadata": {},
   "outputs": [],
   "source": [
    "data=data.drop(columns=['last_transaction','datetime_now'])"
   ]
  },
  {
   "cell_type": "code",
   "execution_count": 12,
   "id": "4f438266-0142-4ec0-aa86-befc112bbe66",
   "metadata": {},
   "outputs": [
    {
     "data": {
      "text/plain": [
       "0    1\n",
       "4    1\n",
       "5    0\n",
       "6    1\n",
       "7    1\n",
       "Name: gender, dtype: int64"
      ]
     },
     "execution_count": 12,
     "metadata": {},
     "output_type": "execute_result"
    }
   ],
   "source": [
    "# converting 'gender' to int or float by mapping Male to 1 and Female to 0\n",
    "data['gender']=data['gender'].replace({'Male': 1, 'Female': 0})\n",
    "data['gender'].head()"
   ]
  },
  {
   "cell_type": "code",
   "execution_count": 13,
   "id": "f8cc9b5a-6b2b-4bbc-9fa7-10abbbff4030",
   "metadata": {},
   "outputs": [
    {
     "data": {
      "text/plain": [
       "array(['self_employed', 'retired', 'salaried', 'student', 'company'],\n",
       "      dtype=object)"
      ]
     },
     "execution_count": 13,
     "metadata": {},
     "output_type": "execute_result"
    }
   ],
   "source": [
    "# converting 'occupation' to int or float by mapping values\n",
    "data['occupation'].unique()"
   ]
  },
  {
   "cell_type": "code",
   "execution_count": 14,
   "id": "165fe3e6-6fd7-4666-a54e-cdbcea4c4299",
   "metadata": {},
   "outputs": [
    {
     "data": {
      "text/plain": [
       "0    1\n",
       "4    1\n",
       "5    1\n",
       "6    3\n",
       "7    1\n",
       "Name: occupation, dtype: int64"
      ]
     },
     "execution_count": 14,
     "metadata": {},
     "output_type": "execute_result"
    }
   ],
   "source": [
    "data['occupation']=data['occupation'].replace({'self_employed': 1, 'salaried': 2, 'retired': 3, 'student': 4, 'company': 5})\n",
    "data['occupation'].head()"
   ]
  },
  {
   "cell_type": "code",
   "execution_count": 15,
   "id": "73d85bb6-36b4-4a53-9ab8-e76f1f37970d",
   "metadata": {},
   "outputs": [
    {
     "name": "stdout",
     "output_type": "stream",
     "text": [
      "<class 'pandas.core.frame.DataFrame'>\n",
      "Index: 22067 entries, 0 to 28381\n",
      "Data columns (total 21 columns):\n",
      " #   Column                          Non-Null Count  Dtype  \n",
      "---  ------                          --------------  -----  \n",
      " 0   customer_id                     22067 non-null  int64  \n",
      " 1   vintage                         22067 non-null  int64  \n",
      " 2   age                             22067 non-null  int64  \n",
      " 3   gender                          22067 non-null  int64  \n",
      " 4   dependents                      22067 non-null  float64\n",
      " 5   occupation                      22067 non-null  int64  \n",
      " 6   city                            22067 non-null  float64\n",
      " 7   customer_nw_category            22067 non-null  int64  \n",
      " 8   branch_code                     22067 non-null  int64  \n",
      " 9   current_balance                 22067 non-null  float64\n",
      " 10  previous_month_end_balance      22067 non-null  float64\n",
      " 11  average_monthly_balance_prevQ   22067 non-null  float64\n",
      " 12  average_monthly_balance_prevQ2  22067 non-null  float64\n",
      " 13  current_month_credit            22067 non-null  float64\n",
      " 14  previous_month_credit           22067 non-null  float64\n",
      " 15  current_month_debit             22067 non-null  float64\n",
      " 16  previous_month_debit            22067 non-null  float64\n",
      " 17  current_month_balance           22067 non-null  float64\n",
      " 18  previous_month_balance          22067 non-null  float64\n",
      " 19  churn                           22067 non-null  int64  \n",
      " 20  days_since_last_transaction     22067 non-null  int64  \n",
      "dtypes: float64(12), int64(9)\n",
      "memory usage: 3.7 MB\n"
     ]
    }
   ],
   "source": [
    "data.info()"
   ]
  },
  {
   "cell_type": "code",
   "execution_count": 16,
   "id": "6b2e65d7-07e3-4159-a02c-7351356f80b2",
   "metadata": {},
   "outputs": [
    {
     "data": {
      "text/plain": [
       "churn\n",
       "0    0.806317\n",
       "1    0.193683\n",
       "Name: count, dtype: float64"
      ]
     },
     "execution_count": 16,
     "metadata": {},
     "output_type": "execute_result"
    }
   ],
   "source": [
    "# Checking the target variable 'churn' distribution\n",
    "data['churn'].value_counts()/len(data)"
   ]
  },
  {
   "cell_type": "markdown",
   "id": "df7536b8-966d-42cf-a002-311ee62c9c31",
   "metadata": {},
   "source": [
    "# Implementing model"
   ]
  },
  {
   "cell_type": "code",
   "execution_count": 17,
   "id": "9c9dae22-8384-45b6-ac8b-4e44230f62e1",
   "metadata": {},
   "outputs": [],
   "source": [
    "# separating dependant and independent variables\n",
    "X=data.drop(columns=['customer_id','churn'])\n",
    "Y=data['churn']"
   ]
  },
  {
   "cell_type": "code",
   "execution_count": 18,
   "id": "f0e0c885-9027-42ea-9024-cbf86256c381",
   "metadata": {},
   "outputs": [],
   "source": [
    "# scaling the dataset\n",
    "from sklearn.preprocessing import StandardScaler\n",
    "scaler=StandardScaler()\n",
    "scaled_X=scaler.fit_transform(X)"
   ]
  },
  {
   "cell_type": "code",
   "execution_count": 19,
   "id": "ccafaf9f-30ca-4c5d-b680-48893df38584",
   "metadata": {},
   "outputs": [
    {
     "data": {
      "text/plain": [
       "((17653, 19), (4414, 19), (17653,), (4414,))"
      ]
     },
     "execution_count": 19,
     "metadata": {},
     "output_type": "execute_result"
    }
   ],
   "source": [
    "# splitting dataset\n",
    "from sklearn.model_selection import train_test_split as tts\n",
    "train_x, test_x, train_y, test_y=tts(scaled_X,Y,train_size=0.8,stratify=Y)\n",
    "train_x.shape, test_x.shape, train_y.shape, test_y.shape"
   ]
  },
  {
   "cell_type": "code",
   "execution_count": 20,
   "id": "e19e2c84-6e8c-4d3e-ac9d-f7df44e75fbc",
   "metadata": {},
   "outputs": [],
   "source": [
    "from sklearn.linear_model import LogisticRegression\n",
    "classifier=LogisticRegression(class_weight='balanced')"
   ]
  },
  {
   "cell_type": "code",
   "execution_count": 21,
   "id": "2e34debe-4c54-4f55-a29f-afabd503bfa3",
   "metadata": {},
   "outputs": [
    {
     "data": {
      "text/plain": [
       "(array([1, 0, 0, ..., 1, 1, 0], dtype=int64),\n",
       " array([[0.45968138, 0.54031862],\n",
       "        [0.69290083, 0.30709917],\n",
       "        [0.50117501, 0.49882499],\n",
       "        ...,\n",
       "        [0.47638573, 0.52361427],\n",
       "        [0.25093826, 0.74906174],\n",
       "        [0.60254352, 0.39745648]]))"
      ]
     },
     "execution_count": 21,
     "metadata": {},
     "output_type": "execute_result"
    }
   ],
   "source": [
    "classifier.fit(train_x,train_y)\n",
    "predicted_values=classifier.predict(test_x)\n",
    "predicted_probabilities=classifier.predict_proba(test_x)\n",
    "predicted_values, predicted_probabilities"
   ]
  },
  {
   "cell_type": "code",
   "execution_count": 22,
   "id": "9daa8759-04d8-457a-9b52-b85cfc9ca158",
   "metadata": {},
   "outputs": [
    {
     "data": {
      "text/plain": [
       "array([[2747,  812],\n",
       "       [ 319,  536]], dtype=int64)"
      ]
     },
     "execution_count": 22,
     "metadata": {},
     "output_type": "execute_result"
    }
   ],
   "source": [
    "from sklearn.metrics import confusion_matrix\n",
    "cf=confusion_matrix(test_y,predicted_values)\n",
    "cf"
   ]
  },
  {
   "cell_type": "code",
   "execution_count": 23,
   "id": "63940e2d-fce8-4436-88a0-09e060c363fb",
   "metadata": {},
   "outputs": [
    {
     "data": {
      "text/plain": [
       "0.7437698232895333"
      ]
     },
     "execution_count": 23,
     "metadata": {},
     "output_type": "execute_result"
    }
   ],
   "source": [
    "# Accuracy\n",
    "classifier.score(test_x,test_y)"
   ]
  },
  {
   "cell_type": "code",
   "execution_count": 24,
   "id": "c07c24b8-6308-469f-9339-0a0efdb0298c",
   "metadata": {},
   "outputs": [
    {
     "data": {
      "text/plain": [
       "0.39762611275964393"
      ]
     },
     "execution_count": 24,
     "metadata": {},
     "output_type": "execute_result"
    }
   ],
   "source": [
    "# Precision\n",
    "from sklearn.metrics import precision_score\n",
    "precision=precision_score(test_y,predicted_values)\n",
    "precision"
   ]
  },
  {
   "cell_type": "code",
   "execution_count": 25,
   "id": "a7a3864c-b8dc-4ee9-9fc6-4354ec03d62d",
   "metadata": {},
   "outputs": [
    {
     "data": {
      "text/plain": [
       "0.6269005847953216"
      ]
     },
     "execution_count": 25,
     "metadata": {},
     "output_type": "execute_result"
    }
   ],
   "source": [
    "# Recall\n",
    "from sklearn.metrics import recall_score\n",
    "recall=recall_score(test_y,predicted_values)\n",
    "recall"
   ]
  },
  {
   "cell_type": "code",
   "execution_count": 26,
   "id": "7d689959-24c2-4db6-9e7a-2ca0d5a847ff",
   "metadata": {},
   "outputs": [
    {
     "data": {
      "text/plain": [
       "0.48660916931457104"
      ]
     },
     "execution_count": 26,
     "metadata": {},
     "output_type": "execute_result"
    }
   ],
   "source": [
    "# f1-score\n",
    "from sklearn.metrics import f1_score\n",
    "f1=f1_score(test_y,predicted_values)\n",
    "f1"
   ]
  },
  {
   "cell_type": "code",
   "execution_count": 27,
   "id": "71b90060-a844-4f32-9f0f-a3583912e253",
   "metadata": {},
   "outputs": [
    {
     "data": {
      "text/plain": [
       "'              precision    recall  f1-score   support\\n\\n           0       0.90      0.77      0.83      3559\\n           1       0.40      0.63      0.49       855\\n\\n    accuracy                           0.74      4414\\n   macro avg       0.65      0.70      0.66      4414\\nweighted avg       0.80      0.74      0.76      4414\\n'"
      ]
     },
     "execution_count": 27,
     "metadata": {},
     "output_type": "execute_result"
    }
   ],
   "source": [
    "from sklearn.metrics import classification_report\n",
    "k=classification_report(test_y,predicted_values)\n",
    "k"
   ]
  },
  {
   "cell_type": "markdown",
   "id": "4fa0ef4e-fa7d-4187-8dd0-2773f05060ea",
   "metadata": {},
   "source": [
    "### Precision-recall curve"
   ]
  },
  {
   "cell_type": "code",
   "execution_count": 28,
   "id": "bfd84280-57fe-4d73-9644-110957f7047b",
   "metadata": {},
   "outputs": [
    {
     "ename": "NameError",
     "evalue": "name 'predicted_probabilites' is not defined",
     "output_type": "error",
     "traceback": [
      "\u001b[1;31m---------------------------------------------------------------------------\u001b[0m",
      "\u001b[1;31mNameError\u001b[0m                                 Traceback (most recent call last)",
      "Cell \u001b[1;32mIn[28], line 2\u001b[0m\n\u001b[0;32m      1\u001b[0m \u001b[38;5;28;01mfrom\u001b[39;00m \u001b[38;5;21;01msklearn\u001b[39;00m\u001b[38;5;21;01m.\u001b[39;00m\u001b[38;5;21;01mmetrics\u001b[39;00m \u001b[38;5;28;01mimport\u001b[39;00m precision_recall_curve\n\u001b[1;32m----> 2\u001b[0m precision_points, recall_points, threshold_points\u001b[38;5;241m=\u001b[39mprecision_recall_curve(test_y,predicted_probabilites[:,\u001b[38;5;241m1\u001b[39m])\n\u001b[0;32m      3\u001b[0m precision_points\u001b[38;5;241m.\u001b[39mshape, recall_points\u001b[38;5;241m.\u001b[39mshape, threshold_points\u001b[38;5;241m.\u001b[39mshape\n",
      "\u001b[1;31mNameError\u001b[0m: name 'predicted_probabilites' is not defined"
     ]
    }
   ],
   "source": [
    "from sklearn.metrics import precision_recall_curve\n",
    "precision_points, recall_points, threshold_points=precision_recall_curve(test_y,predicted_probabilites[:,1])\n",
    "precision_points.shape, recall_points.shape, threshold_points.shape"
   ]
  },
  {
   "cell_type": "code",
   "execution_count": null,
   "id": "ac533ca1-0d2d-423e-998f-e8a333d0c8c6",
   "metadata": {},
   "outputs": [],
   "source": [
    "plt.figure(figsize=(7,5),dpi=100)\n",
    "plt.plot(threshold_points, precision_points[:-1],color='red', label='Precision')\n",
    "plt.plot(threshold_points, recall_points[:-1],color='green',label='Recall')\n",
    "plt.xlabel('Thresholds')\n",
    "plt.ylabel('Score')\n",
    "plt.title('Precision-Recall tradeoff')\n",
    "plt.legend()\n",
    "plt.show()"
   ]
  },
  {
   "cell_type": "code",
   "execution_count": null,
   "id": "3f5c7280-0015-46f7-af32-ca8e852f5166",
   "metadata": {},
   "outputs": [],
   "source": [
    "# Threshold near 0.55"
   ]
  },
  {
   "cell_type": "markdown",
   "id": "e2ec5112-cfa5-4052-b5d6-32dddd763077",
   "metadata": {},
   "source": [
    "### AUC-ROC curve"
   ]
  },
  {
   "cell_type": "code",
   "execution_count": null,
   "id": "c86e56c9-3263-4095-bcb7-12b1a9af5dbd",
   "metadata": {},
   "outputs": [],
   "source": [
    "from sklearn.metrics import roc_curve, roc_auc_score\n",
    "fpr, tpr, threshold=roc_curve(test_y, predicted_probabilities[:,1])"
   ]
  },
  {
   "cell_type": "code",
   "execution_count": null,
   "id": "ee93101c-e4f0-4868-bd4e-2cef79a5ca20",
   "metadata": {},
   "outputs": [],
   "source": [
    "plt.figure(figsize=(7,5),dpi=100)\n",
    "plt.plot(fpr,tpr,color='green')\n",
    "plt.plot([0,1],[0,1],label='baseline',color='red')\n",
    "plt.xlabel('FPR')\n",
    "plt.ylabel('TPR')\n",
    "plt.title('AUC-ROC curve')\n",
    "plt.show()\n",
    "roc_auc_score(test_y,predicted_probabilities[:,1])"
   ]
  },
  {
   "cell_type": "markdown",
   "id": "232b7782-5abd-46f3-ac62-de501bb38725",
   "metadata": {},
   "source": [
    "### Coefficients plot"
   ]
  },
  {
   "cell_type": "code",
   "execution_count": null,
   "id": "fb6dddcd-9785-455d-b400-0be74e325f81",
   "metadata": {},
   "outputs": [],
   "source": [
    "# arranging the data\n",
    "c=classifier.coef_.reshape(-1)\n",
    "x=X.columns\n",
    "\n",
    "coef_table=pd.DataFrame({'coefficients': c, 'variables': x})\n",
    "\n",
    "coef_table=coef_table.sort_values(by='coefficients')\n",
    "coef_table.head()"
   ]
  },
  {
   "cell_type": "code",
   "execution_count": null,
   "id": "443f7277-7e76-4277-9809-70d565ac4ecd",
   "metadata": {},
   "outputs": [],
   "source": [
    "plt.figure(figsize=(8,6), dpi=120)\n",
    "plt.barh(coef_table['variables'], coef_table['coefficients'])\n",
    "plt.xlabel('coefficients magnitude')\n",
    "plt.ylabel('variables')\n",
    "plt.title('coefficients plot')\n",
    "plt.show()"
   ]
  }
 ],
 "metadata": {
  "kernelspec": {
   "display_name": "Python 3 (ipykernel)",
   "language": "python",
   "name": "python3"
  },
  "language_info": {
   "codemirror_mode": {
    "name": "ipython",
    "version": 3
   },
   "file_extension": ".py",
   "mimetype": "text/x-python",
   "name": "python",
   "nbconvert_exporter": "python",
   "pygments_lexer": "ipython3",
   "version": "3.11.7"
  }
 },
 "nbformat": 4,
 "nbformat_minor": 5
}
